{
 "cells": [
  {
   "cell_type": "code",
   "execution_count": 6,
   "id": "40a40033",
   "metadata": {},
   "outputs": [
    {
     "name": "stdout",
     "output_type": "stream",
     "text": [
      "An an DET DT det Xx True True\n",
      "integer integer NOUN NN compound xxxx True False\n",
      "overflow overflow NOUN NN nsubj xxxx True False\n",
      "exists exist VERB VBZ ROOT xxxx True False\n",
      "in in ADP IN prep xx True True\n",
      "HAProxy HAProxy PROPN NNP pobj XXXxxxx True False\n",
      "2.0 2.0 NUM CD nummod d.d False False\n",
      "through through ADP IN prep xxxx True True\n",
      "2.5 2.5 NUM CD pobj d.d False False\n",
      "in in ADP IN prep xx True True\n",
      "htx_add_header htx_add_header X ADD pobj xxx_xxx_xxxx False False\n",
      "that that DET WDT nsubjpass xxxx True True\n",
      "can can AUX MD aux xxx True True\n",
      "be be AUX VB auxpass xx True True\n",
      "exploited exploit VERB VBN advcl xxxx True False\n",
      "to to PART TO aux xx True True\n",
      "perform perform VERB VB xcomp xxxx True False\n",
      "an an DET DT det xx True True\n",
      "HTTP HTTP PROPN NNP compound XXXX True False\n",
      "request request NOUN NN compound xxxx True False\n",
      "smuggling smuggling NOUN NN compound xxxx True False\n",
      "attack attack NOUN NN dobj xxxx True False\n",
      ", , PUNCT , punct , False False\n",
      "allowing allow VERB VBG advcl xxxx True False\n",
      "an an DET DT det xx True True\n",
      "attacker attacker NOUN NN nsubj xxxx True False\n",
      "to to ADP IN prep xx True True\n",
      "bypass bypass NOUN NN pobj xxxx True False\n",
      "all all DET DT dep xxx True True\n",
      "configured configure VERB VBN ccomp xxxx True False\n",
      "http http NOUN NN compound xxxx True False\n",
      "- - PUNCT HYPH punct - False False\n",
      "request request NOUN NN compound xxxx True False\n",
      "HAProxy haproxy ADJ JJ compound XXXxxxx True False\n",
      "ACLs acl NOUN NNS dobj XXXx True False\n",
      "and and CCONJ CC cc xxx True True\n",
      "possibly possibly ADV RB advmod xxxx True False\n",
      "other other ADJ JJ amod xxxx True True\n",
      "ACLs acl NOUN NNS conj XXXx True False\n",
      ". . PUNCT . punct . False False\n"
     ]
    }
   ],
   "source": [
    "import spacy\n",
    "nlp = spacy.load(\"en_core_web_sm\")\n",
    "doc = nlp(\"An integer overflow exists in HAProxy 2.0 through 2.5 in htx_add_header that can be exploited to perform an HTTP request smuggling attack, allowing an attacker to bypass all configured http-request HAProxy ACLs and possibly other ACLs.\")\n",
    "\n",
    "for token in doc:\n",
    "    print(token.text, token.lemma_, token.pos_, token.tag_, token.dep_,\n",
    "            token.shape_, token.is_alpha, token.is_stop)"
   ]
  },
  {
   "cell_type": "code",
   "execution_count": 8,
   "id": "270d974c",
   "metadata": {},
   "outputs": [
    {
     "name": "stdout",
     "output_type": "stream",
     "text": [
      "2.0 CARDINAL 397\n",
      "2.5 CARDINAL 397\n",
      "HAProxy ORG 383\n"
     ]
    }
   ],
   "source": [
    "for entity in doc.ents:\n",
    "    print(entity, entity.label_, entity.label)"
   ]
  },
  {
   "cell_type": "code",
   "execution_count": 9,
   "id": "65e8037b",
   "metadata": {},
   "outputs": [
    {
     "ename": "ModuleNotFoundError",
     "evalue": "No module named 'spacy.gold'",
     "output_type": "error",
     "traceback": [
      "\u001b[1;31m---------------------------------------------------------------------------\u001b[0m",
      "\u001b[1;31mModuleNotFoundError\u001b[0m                       Traceback (most recent call last)",
      "\u001b[1;32m<ipython-input-9-5dec67edc973>\u001b[0m in \u001b[0;36m<module>\u001b[1;34m\u001b[0m\n\u001b[0;32m      1\u001b[0m \u001b[1;32mimport\u001b[0m \u001b[0mspacy\u001b[0m\u001b[1;33m\u001b[0m\u001b[1;33m\u001b[0m\u001b[0m\n\u001b[0;32m      2\u001b[0m \u001b[1;32mimport\u001b[0m \u001b[0mrandom\u001b[0m\u001b[1;33m\u001b[0m\u001b[1;33m\u001b[0m\u001b[0m\n\u001b[1;32m----> 3\u001b[1;33m \u001b[1;32mfrom\u001b[0m \u001b[0mspacy\u001b[0m\u001b[1;33m.\u001b[0m\u001b[0mgold\u001b[0m \u001b[1;32mimport\u001b[0m \u001b[0mGoldParse\u001b[0m\u001b[1;33m\u001b[0m\u001b[1;33m\u001b[0m\u001b[0m\n\u001b[0m\u001b[0;32m      4\u001b[0m \u001b[1;32mfrom\u001b[0m \u001b[0mspacy\u001b[0m\u001b[1;33m.\u001b[0m\u001b[0mlanguage\u001b[0m \u001b[1;32mimport\u001b[0m \u001b[0mEntityRecognizer\u001b[0m\u001b[1;33m\u001b[0m\u001b[1;33m\u001b[0m\u001b[0m\n\u001b[0;32m      5\u001b[0m \u001b[1;33m\u001b[0m\u001b[0m\n",
      "\u001b[1;31mModuleNotFoundError\u001b[0m: No module named 'spacy.gold'"
     ]
    }
   ],
   "source": [
    "import spacy \n",
    "import random \n",
    "from spacy.gold import GoldParse \n",
    "from spacy.language import EntityRecognizer \n",
    "\n",
    "train_data = [ \n",
    "    ('Who is Chaka Khan?', [(7, 17, 'PERSON')]), \n",
    "    ('I like London and Berlin.', [(7, 13, 'LOC'), (18, 24, 'LOC')]) \n",
    "] \n",
    "\n",
    "nlp = spacy.load('en', entity=False, parser=False) \n",
    "ner = EntityRecognizer(nlp.vocab, entity_types=['PERSON', 'LOC']) \n",
    "\n",
    "for itn in range(5): \n",
    "    random.shuffle(train_data) \n",
    "    for raw_text, entity_offsets in train_data: \n",
    "     doc = nlp.make_doc(raw_text) \n",
    "     gold = GoldParse(doc, entities=entity_offsets) \n",
    "\n",
    "     nlp.tagger(doc) \n",
    "     ner.update(doc, gold) \n",
    "ner.model.end_training() "
   ]
  }
 ],
 "metadata": {
  "kernelspec": {
   "display_name": "Python 3",
   "language": "python",
   "name": "python3"
  },
  "language_info": {
   "codemirror_mode": {
    "name": "ipython",
    "version": 3
   },
   "file_extension": ".py",
   "mimetype": "text/x-python",
   "name": "python",
   "nbconvert_exporter": "python",
   "pygments_lexer": "ipython3",
   "version": "3.8.8"
  }
 },
 "nbformat": 4,
 "nbformat_minor": 5
}
